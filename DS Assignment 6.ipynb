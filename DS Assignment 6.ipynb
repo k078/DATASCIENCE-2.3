{
 "cells": [
  {
   "cell_type": "code",
   "execution_count": 2,
   "id": "07968473",
   "metadata": {},
   "outputs": [],
   "source": [
    "import pandas as pd"
   ]
  },
  {
   "cell_type": "code",
   "execution_count": 3,
   "id": "6abd5736",
   "metadata": {},
   "outputs": [],
   "source": [
    "import seaborn as sns"
   ]
  },
  {
   "cell_type": "code",
   "execution_count": 4,
   "id": "0cbb5b57",
   "metadata": {},
   "outputs": [],
   "source": [
    "dataset = pd.read_csv('CarBuyers.csv', sep=',')"
   ]
  },
  {
   "cell_type": "code",
   "execution_count": 5,
   "id": "c9a3f80b",
   "metadata": {
    "scrolled": false
   },
   "outputs": [
    {
     "data": {
      "text/html": [
       "<div>\n",
       "<style scoped>\n",
       "    .dataframe tbody tr th:only-of-type {\n",
       "        vertical-align: middle;\n",
       "    }\n",
       "\n",
       "    .dataframe tbody tr th {\n",
       "        vertical-align: top;\n",
       "    }\n",
       "\n",
       "    .dataframe thead th {\n",
       "        text-align: right;\n",
       "    }\n",
       "</style>\n",
       "<table border=\"1\" class=\"dataframe\">\n",
       "  <thead>\n",
       "    <tr style=\"text-align: right;\">\n",
       "      <th></th>\n",
       "      <th>Manufacturer</th>\n",
       "      <th>Model</th>\n",
       "      <th>Price</th>\n",
       "      <th>Transmission</th>\n",
       "      <th>Power</th>\n",
       "      <th>Engine CC</th>\n",
       "      <th>Fuel</th>\n",
       "      <th>Male</th>\n",
       "      <th>Female</th>\n",
       "      <th>Unknown</th>\n",
       "      <th>Total</th>\n",
       "    </tr>\n",
       "  </thead>\n",
       "  <tbody>\n",
       "    <tr>\n",
       "      <th>0</th>\n",
       "      <td>Ford</td>\n",
       "      <td>Focus</td>\n",
       "      <td>30.619322</td>\n",
       "      <td>5.966102</td>\n",
       "      <td>94.033898</td>\n",
       "      <td>1497.169492</td>\n",
       "      <td>petrol</td>\n",
       "      <td>814172</td>\n",
       "      <td>422731</td>\n",
       "      <td>56,487</td>\n",
       "      <td>1293390</td>\n",
       "    </tr>\n",
       "    <tr>\n",
       "      <th>1</th>\n",
       "      <td>Ford</td>\n",
       "      <td>Fiesta</td>\n",
       "      <td>18.532143</td>\n",
       "      <td>5.714286</td>\n",
       "      <td>68.571429</td>\n",
       "      <td>1166.142857</td>\n",
       "      <td>petrol</td>\n",
       "      <td>554879</td>\n",
       "      <td>631666</td>\n",
       "      <td>54,057</td>\n",
       "      <td>1240602</td>\n",
       "    </tr>\n",
       "    <tr>\n",
       "      <th>2</th>\n",
       "      <td>Volkswagen</td>\n",
       "      <td>Golf</td>\n",
       "      <td>31.242154</td>\n",
       "      <td>6.164835</td>\n",
       "      <td>89.461538</td>\n",
       "      <td>1537.406593</td>\n",
       "      <td>petrol</td>\n",
       "      <td>483216</td>\n",
       "      <td>310604</td>\n",
       "      <td>47,563</td>\n",
       "      <td>841383</td>\n",
       "    </tr>\n",
       "    <tr>\n",
       "      <th>3</th>\n",
       "      <td>Renault</td>\n",
       "      <td>Clio</td>\n",
       "      <td>22.100000</td>\n",
       "      <td>5.615385</td>\n",
       "      <td>75.576923</td>\n",
       "      <td>1219.653846</td>\n",
       "      <td>petrol</td>\n",
       "      <td>241287</td>\n",
       "      <td>312556</td>\n",
       "      <td>28,004</td>\n",
       "      <td>581847</td>\n",
       "    </tr>\n",
       "    <tr>\n",
       "      <th>4</th>\n",
       "      <td>BMW</td>\n",
       "      <td>320i</td>\n",
       "      <td>47.848370</td>\n",
       "      <td>6.444444</td>\n",
       "      <td>126.111111</td>\n",
       "      <td>1995.777778</td>\n",
       "      <td>petrol</td>\n",
       "      <td>408016</td>\n",
       "      <td>115843</td>\n",
       "      <td>29,125</td>\n",
       "      <td>552984</td>\n",
       "    </tr>\n",
       "    <tr>\n",
       "      <th>...</th>\n",
       "      <td>...</td>\n",
       "      <td>...</td>\n",
       "      <td>...</td>\n",
       "      <td>...</td>\n",
       "      <td>...</td>\n",
       "      <td>...</td>\n",
       "      <td>...</td>\n",
       "      <td>...</td>\n",
       "      <td>...</td>\n",
       "      <td>...</td>\n",
       "      <td>...</td>\n",
       "    </tr>\n",
       "    <tr>\n",
       "      <th>6087</th>\n",
       "      <td>Land-Rover</td>\n",
       "      <td>Defender</td>\n",
       "      <td>108.747195</td>\n",
       "      <td>7.853659</td>\n",
       "      <td>207.609756</td>\n",
       "      <td>2304.975610</td>\n",
       "      <td>diesel</td>\n",
       "      <td>1,012</td>\n",
       "      <td>150</td>\n",
       "      <td>80</td>\n",
       "      <td>1,242</td>\n",
       "    </tr>\n",
       "    <tr>\n",
       "      <th>6088</th>\n",
       "      <td>Toyota</td>\n",
       "      <td>RAV4</td>\n",
       "      <td>43.548516</td>\n",
       "      <td>1.354839</td>\n",
       "      <td>137.774193</td>\n",
       "      <td>2261.193548</td>\n",
       "      <td>petrol</td>\n",
       "      <td>670</td>\n",
       "      <td>482</td>\n",
       "      <td>66</td>\n",
       "      <td>1,218</td>\n",
       "    </tr>\n",
       "    <tr>\n",
       "      <th>6089</th>\n",
       "      <td>Alfa-Romeo</td>\n",
       "      <td>Spider</td>\n",
       "      <td>55.200000</td>\n",
       "      <td>6.000000</td>\n",
       "      <td>163.500000</td>\n",
       "      <td>2696.500000</td>\n",
       "      <td>petrol</td>\n",
       "      <td>790</td>\n",
       "      <td>247</td>\n",
       "      <td>81</td>\n",
       "      <td>1,118</td>\n",
       "    </tr>\n",
       "    <tr>\n",
       "      <th>6090</th>\n",
       "      <td>Honda</td>\n",
       "      <td>Shuttle</td>\n",
       "      <td>30.081000</td>\n",
       "      <td>4.000000</td>\n",
       "      <td>110.000000</td>\n",
       "      <td>2254.000000</td>\n",
       "      <td>petrol</td>\n",
       "      <td>639</td>\n",
       "      <td>416</td>\n",
       "      <td>49</td>\n",
       "      <td>1,104</td>\n",
       "    </tr>\n",
       "    <tr>\n",
       "      <th>6091</th>\n",
       "      <td>Mitsubishi</td>\n",
       "      <td>Space</td>\n",
       "      <td>23.165158</td>\n",
       "      <td>3.947368</td>\n",
       "      <td>82.157895</td>\n",
       "      <td>1817.315789</td>\n",
       "      <td>petrol</td>\n",
       "      <td>721</td>\n",
       "      <td>251</td>\n",
       "      <td>40</td>\n",
       "      <td>1,012</td>\n",
       "    </tr>\n",
       "  </tbody>\n",
       "</table>\n",
       "<p>6092 rows × 11 columns</p>\n",
       "</div>"
      ],
      "text/plain": [
       "     Manufacturer     Model       Price  Transmission       Power  \\\n",
       "0            Ford     Focus   30.619322      5.966102   94.033898   \n",
       "1            Ford    Fiesta   18.532143      5.714286   68.571429   \n",
       "2      Volkswagen      Golf   31.242154      6.164835   89.461538   \n",
       "3         Renault      Clio   22.100000      5.615385   75.576923   \n",
       "4             BMW      320i   47.848370      6.444444  126.111111   \n",
       "...           ...       ...         ...           ...         ...   \n",
       "6087   Land-Rover  Defender  108.747195      7.853659  207.609756   \n",
       "6088       Toyota      RAV4   43.548516      1.354839  137.774193   \n",
       "6089   Alfa-Romeo    Spider   55.200000      6.000000  163.500000   \n",
       "6090        Honda   Shuttle   30.081000      4.000000  110.000000   \n",
       "6091   Mitsubishi     Space   23.165158      3.947368   82.157895   \n",
       "\n",
       "        Engine CC    Fuel    Male  Female Unknown    Total  \n",
       "0     1497.169492  petrol  814172  422731  56,487  1293390  \n",
       "1     1166.142857  petrol  554879  631666  54,057  1240602  \n",
       "2     1537.406593  petrol  483216  310604  47,563   841383  \n",
       "3     1219.653846  petrol  241287  312556  28,004   581847  \n",
       "4     1995.777778  petrol  408016  115843  29,125   552984  \n",
       "...           ...     ...     ...     ...     ...      ...  \n",
       "6087  2304.975610  diesel   1,012     150      80    1,242  \n",
       "6088  2261.193548  petrol     670     482      66    1,218  \n",
       "6089  2696.500000  petrol     790     247      81    1,118  \n",
       "6090  2254.000000  petrol     639     416      49    1,104  \n",
       "6091  1817.315789  petrol     721     251      40    1,012  \n",
       "\n",
       "[6092 rows x 11 columns]"
      ]
     },
     "execution_count": 5,
     "metadata": {},
     "output_type": "execute_result"
    }
   ],
   "source": [
    "dataset"
   ]
  },
  {
   "cell_type": "code",
   "execution_count": 6,
   "id": "8a45e61e",
   "metadata": {},
   "outputs": [],
   "source": [
    "columns=dataset[['Manufacturer','Model','Price','Power']]"
   ]
  },
  {
   "cell_type": "code",
   "execution_count": 7,
   "id": "4636ddee",
   "metadata": {},
   "outputs": [
    {
     "data": {
      "text/html": [
       "<div>\n",
       "<style scoped>\n",
       "    .dataframe tbody tr th:only-of-type {\n",
       "        vertical-align: middle;\n",
       "    }\n",
       "\n",
       "    .dataframe tbody tr th {\n",
       "        vertical-align: top;\n",
       "    }\n",
       "\n",
       "    .dataframe thead th {\n",
       "        text-align: right;\n",
       "    }\n",
       "</style>\n",
       "<table border=\"1\" class=\"dataframe\">\n",
       "  <thead>\n",
       "    <tr style=\"text-align: right;\">\n",
       "      <th></th>\n",
       "      <th>Manufacturer</th>\n",
       "      <th>Model</th>\n",
       "      <th>Price</th>\n",
       "      <th>Power</th>\n",
       "    </tr>\n",
       "  </thead>\n",
       "  <tbody>\n",
       "    <tr>\n",
       "      <th>0</th>\n",
       "      <td>Ford</td>\n",
       "      <td>Focus</td>\n",
       "      <td>30.619322</td>\n",
       "      <td>94.033898</td>\n",
       "    </tr>\n",
       "    <tr>\n",
       "      <th>1</th>\n",
       "      <td>Ford</td>\n",
       "      <td>Fiesta</td>\n",
       "      <td>18.532143</td>\n",
       "      <td>68.571429</td>\n",
       "    </tr>\n",
       "    <tr>\n",
       "      <th>2</th>\n",
       "      <td>Volkswagen</td>\n",
       "      <td>Golf</td>\n",
       "      <td>31.242154</td>\n",
       "      <td>89.461538</td>\n",
       "    </tr>\n",
       "    <tr>\n",
       "      <th>3</th>\n",
       "      <td>Renault</td>\n",
       "      <td>Clio</td>\n",
       "      <td>22.100000</td>\n",
       "      <td>75.576923</td>\n",
       "    </tr>\n",
       "    <tr>\n",
       "      <th>4</th>\n",
       "      <td>BMW</td>\n",
       "      <td>320i</td>\n",
       "      <td>47.848370</td>\n",
       "      <td>126.111111</td>\n",
       "    </tr>\n",
       "    <tr>\n",
       "      <th>...</th>\n",
       "      <td>...</td>\n",
       "      <td>...</td>\n",
       "      <td>...</td>\n",
       "      <td>...</td>\n",
       "    </tr>\n",
       "    <tr>\n",
       "      <th>6087</th>\n",
       "      <td>Land-Rover</td>\n",
       "      <td>Defender</td>\n",
       "      <td>108.747195</td>\n",
       "      <td>207.609756</td>\n",
       "    </tr>\n",
       "    <tr>\n",
       "      <th>6088</th>\n",
       "      <td>Toyota</td>\n",
       "      <td>RAV4</td>\n",
       "      <td>43.548516</td>\n",
       "      <td>137.774193</td>\n",
       "    </tr>\n",
       "    <tr>\n",
       "      <th>6089</th>\n",
       "      <td>Alfa-Romeo</td>\n",
       "      <td>Spider</td>\n",
       "      <td>55.200000</td>\n",
       "      <td>163.500000</td>\n",
       "    </tr>\n",
       "    <tr>\n",
       "      <th>6090</th>\n",
       "      <td>Honda</td>\n",
       "      <td>Shuttle</td>\n",
       "      <td>30.081000</td>\n",
       "      <td>110.000000</td>\n",
       "    </tr>\n",
       "    <tr>\n",
       "      <th>6091</th>\n",
       "      <td>Mitsubishi</td>\n",
       "      <td>Space</td>\n",
       "      <td>23.165158</td>\n",
       "      <td>82.157895</td>\n",
       "    </tr>\n",
       "  </tbody>\n",
       "</table>\n",
       "<p>6092 rows × 4 columns</p>\n",
       "</div>"
      ],
      "text/plain": [
       "     Manufacturer     Model       Price       Power\n",
       "0            Ford     Focus   30.619322   94.033898\n",
       "1            Ford    Fiesta   18.532143   68.571429\n",
       "2      Volkswagen      Golf   31.242154   89.461538\n",
       "3         Renault      Clio   22.100000   75.576923\n",
       "4             BMW      320i   47.848370  126.111111\n",
       "...           ...       ...         ...         ...\n",
       "6087   Land-Rover  Defender  108.747195  207.609756\n",
       "6088       Toyota      RAV4   43.548516  137.774193\n",
       "6089   Alfa-Romeo    Spider   55.200000  163.500000\n",
       "6090        Honda   Shuttle   30.081000  110.000000\n",
       "6091   Mitsubishi     Space   23.165158   82.157895\n",
       "\n",
       "[6092 rows x 4 columns]"
      ]
     },
     "execution_count": 7,
     "metadata": {},
     "output_type": "execute_result"
    }
   ],
   "source": [
    "columns"
   ]
  },
  {
   "cell_type": "code",
   "execution_count": 8,
   "id": "773af1e9",
   "metadata": {},
   "outputs": [
    {
     "data": {
      "text/plain": [
       "0             Ford\n",
       "1             Ford\n",
       "2       Volkswagen\n",
       "3          Renault\n",
       "4              BMW\n",
       "           ...    \n",
       "6087    Land-Rover\n",
       "6088        Toyota\n",
       "6089    Alfa-Romeo\n",
       "6090         Honda\n",
       "6091    Mitsubishi\n",
       "Name: Manufacturer, Length: 6092, dtype: object"
      ]
     },
     "execution_count": 8,
     "metadata": {},
     "output_type": "execute_result"
    }
   ],
   "source": [
    "columns['Manufacturer']"
   ]
  },
  {
   "cell_type": "code",
   "execution_count": 9,
   "id": "16818b75",
   "metadata": {},
   "outputs": [
    {
     "data": {
      "text/plain": [
       "array(['Ford', 'Volkswagen', 'Renault', 'BMW', 'Peugeot', 'Nissan',\n",
       "       'Honda', 'Toyota', 'Mercedes', 'Audi', 'Citroen', 'Skoda',\n",
       "       'Land-Rover', 'Seat', 'Fiat', 'Mini', 'Saab', 'Hyundai', 'Kia',\n",
       "       'Jaguar', 'Mazda', 'Suzuki', 'Volvo', 'Rover', 'Mitsubishi',\n",
       "       'Smart', 'Porsche', 'Subaru', 'MG', 'Chrysler', 'Chevrolet',\n",
       "       'Alfa-Romeo', 'Daihatsu', 'Bentley', 'Daewoo', 'Dacia', 'Lexus',\n",
       "       'Dodge', 'Lotus', 'Aston-Martin', 'Abarth', 'Ssangyong',\n",
       "       'Maserati', 'Opel', 'Ferrari', 'TVR', 'Triumph', 'Lada', 'Daimler',\n",
       "       'Lancia', 'Datsun', 'Morris'], dtype=object)"
      ]
     },
     "execution_count": 9,
     "metadata": {},
     "output_type": "execute_result"
    }
   ],
   "source": [
    "columns['Manufacturer'].unique()"
   ]
  },
  {
   "cell_type": "code",
   "execution_count": 10,
   "id": "e5763e62",
   "metadata": {},
   "outputs": [
    {
     "data": {
      "text/plain": [
       "Ford            355\n",
       "Peugeot         312\n",
       "Toyota          308\n",
       "Audi            293\n",
       "Fiat            288\n",
       "Volkswagen      278\n",
       "Mercedes        262\n",
       "Nissan          259\n",
       "Volvo           253\n",
       "Renault         242\n",
       "Honda           239\n",
       "Mazda           231\n",
       "Citroen         207\n",
       "BMW             204\n",
       "Hyundai         193\n",
       "Suzuki          186\n",
       "Mitsubishi      158\n",
       "Kia             152\n",
       "Alfa-Romeo      148\n",
       "Seat            140\n",
       "Porsche         114\n",
       "Skoda           113\n",
       "Rover           101\n",
       "Land-Rover       96\n",
       "Subaru           86\n",
       "Saab             81\n",
       "Jaguar           75\n",
       "Chrysler         71\n",
       "Daewoo           64\n",
       "Daihatsu         62\n",
       "Chevrolet        55\n",
       "MG               50\n",
       "Opel             48\n",
       "Smart            39\n",
       "Lotus            31\n",
       "Aston-Martin     31\n",
       "Lancia           29\n",
       "Ssangyong        29\n",
       "Triumph          26\n",
       "Datsun           24\n",
       "Daimler          24\n",
       "Mini             23\n",
       "Lada             22\n",
       "Dodge            18\n",
       "Lexus            17\n",
       "Morris           15\n",
       "TVR              11\n",
       "Ferrari          10\n",
       "Bentley          10\n",
       "Abarth            4\n",
       "Maserati          3\n",
       "Dacia             2\n",
       "Name: Manufacturer, dtype: int64"
      ]
     },
     "execution_count": 10,
     "metadata": {},
     "output_type": "execute_result"
    }
   ],
   "source": [
    "columns['Manufacturer'].value_counts()"
   ]
  },
  {
   "cell_type": "code",
   "execution_count": 11,
   "id": "b7d96178",
   "metadata": {},
   "outputs": [
    {
     "data": {
      "text/plain": [
       "<AxesSubplot:>"
      ]
     },
     "execution_count": 11,
     "metadata": {},
     "output_type": "execute_result"
    },
    {
     "data": {
      "image/png": "[encoded data removed]",
      "text/plain": [
       "<Figure size 432x288 with 1 Axes>"
      ]
     },
     "metadata": {
      "needs_background": "light"
     },
     "output_type": "display_data"
    }
   ],
   "source": [
    "columns['Manufacturer'].value_counts().plot(kind='bar')"
   ]
  },
  {
   "cell_type": "code",
   "execution_count": 12,
   "id": "18f00e74",
   "metadata": {},
   "outputs": [
    {
     "data": {
      "text/plain": [
       "0          Focus\n",
       "1         Fiesta\n",
       "2           Golf\n",
       "3           Clio\n",
       "4           320i\n",
       "          ...   \n",
       "6087    Defender\n",
       "6088        RAV4\n",
       "6089      Spider\n",
       "6090     Shuttle\n",
       "6091       Space\n",
       "Name: Model, Length: 6092, dtype: object"
      ]
     },
     "execution_count": 12,
     "metadata": {},
     "output_type": "execute_result"
    }
   ],
   "source": [
    "columns['Model']"
   ]
  },
  {
   "cell_type": "code",
   "execution_count": 13,
   "id": "4ab50d90",
   "metadata": {},
   "outputs": [
    {
     "data": {
      "text/plain": [
       "array(['Focus', 'Fiesta', 'Golf', 'Clio', '320i', 'Polo', '206', 'Mondeo',\n",
       "       'Micra', 'Civic', 'Ka+', 'Megane', 'Yaris', 'CLA', 'A4', 'Passat',\n",
       "       'Jazz', 'A3', '307', '207', 'Xsara', 'Fabia', '118i', 'Freelander',\n",
       "       'C3', 'Corolla', '535i', 'Avensis', 'E', 'Scenic', 'Ibiza',\n",
       "       'Discovery', 'Range', 'Qashqai+2', 'Octavia', '500L', 'A',\n",
       "       'Almera', 'C4', 'One', 'RAV4', '9-3X', '107', 'Aygo', 'I10', 'A6',\n",
       "       'Picanto', 'Note', 'Leon', 'XE', 'Fusion', 'Accord', 'MX-5', '6',\n",
       "       'C1', 'Swift', 'Galaxy', '308', '3', 'TT', 'Laguna', '2', 'Panda',\n",
       "       'Auris', '306', '106', 'V70', 'Saxo', 'Touran', 'Beetle', 'Rio',\n",
       "       'C-MAX', 'X5', 'Juke', 'Vitara', 'Ceed', '406', 'Getz', 'X-Trail',\n",
       "       'CLK', 'S40', '75', 'Berlingo', 'Alto', 'Primera', 'I20', 'SLK',\n",
       "       'S-MAX', 'ML', 'Sportage', '407', 'C2', 'I30', 'XF', 'A1', 'Colt',\n",
       "       'A5', 'Kuga', 'Prius', 'S-Type', 'V50', 'Escort', 'XC90', 'C5',\n",
       "       'V40', 'X3', 'Tiguan', 'B', 'Fortwo', 'Bora', '45', '911', 'XJ',\n",
       "       'Impreza', '09-May', 'Celica', 'Sharan', 'Santa', '208', 'S60',\n",
       "       'DS3', 'Modus', 'ZR', 'Voyager', 'Sorento', 'Z4', '2000', 'Up',\n",
       "       'Jimny', 'Matiz', 'Boxster', 'Wagon', '3008', '323', 'Puma',\n",
       "       'Stilo', 'Scirocco', 'XK', 'Altea', 'C30', 'Accent', 'Lupo',\n",
       "       'Sprinter', 'Ix35', 'Kangoo', '5', 'Jetta', 'Alhambra', 'Espace',\n",
       "       'Ignis', 'SX4', 'Carens', 'Q5', 'Partner', 'Forester', 'Yeti',\n",
       "       'Touareg', 'Seicento', 'Superb', 'Bravo', 'X1', 'Q7', '147', 'MR2',\n",
       "       '740i', 'TF', 'S80', 'Fox', 'Twingo', 'Lancer', 'Doblo', 'Eos',\n",
       "       'M3', 'PT', 'Matrix', 'IQ', 'SLS', 'A2', 'Z3', 'C70', 'Roomster',\n",
       "       'Splash', 'Previa', 'Starlet', 'Aveo', 'XC70', 'Tucson', 'Legacy',\n",
       "       'Cayenne', '156', '640i', 'Spark', 'Kalos', 'Outlander', 'Pixo',\n",
       "       'FR-V', 'Sirion', 'Mini', 'Venga', 'Streetka', 'Felicia',\n",
       "       'Terrano', 'Space', 'Carisma', 'Lacetti', 'ZT', 'CLC', 'Defender',\n",
       "       'Arosa', 'ZS', 'HR-V', 'City-coupe', 'Terios', 'Carina',\n",
       "       'Multipla', 'A8', 'Soul', 'Citigo', 'Liana', 'Continental',\n",
       "       'Captiva', 'Pathfinder', '205', '900', 'B-MAX', '940', 'Toledo',\n",
       "       'Ix20', '850', 'Verso-S', 'S3', '159', 'Lanos', 'Forfour', 'C8',\n",
       "       '626', 'Sandero', '807', '5008', 'ASX', 'Cayman', '300C', '300',\n",
       "       'Insight', 'Duster', 'CT', '1007', '508', 'Xantia', 'RCZ', '350Z',\n",
       "       'Demio', 'S2000', '190', 'Trajet', 'Tacuma', 'GT', 'Premacy', 'ZX',\n",
       "       'V60', 'Brava', 'S4', 'X6', 'Outback', 'Caliber', 'Maverick',\n",
       "       'Streetwise', 'CityRover', 'Cerato', 'Elise', 'Cougar',\n",
       "       'Roadster-coupe', 'Vantage', 'I40', 'Cruze', 'Exeo', 'Urban',\n",
       "       'Mii', 'A7', '405', '500C', 'Transporter', 'Spider', 'DS4',\n",
       "       'Picnic', 'Viano', 'Ulysse', 'Sierra', 'DB9', '80', 'Neon',\n",
       "       'Terracan', 'M550i', 'Magentis', 'AX', 'RS4', 'Captur', 'Grandis',\n",
       "       'Crossfire', 'CR-Z', 'R', 'Stream', 'Idea', 'Prelude', 'Elantra',\n",
       "       '607', 'Rexton', 'CC', 'Roadster', '806', '9000', 'S5', 'Nemo',\n",
       "       'Sonata', 'Capri', 'Sedici', 'Brera', '944', 'Cordoba',\n",
       "       'C-Crosser', 'Cabriolet', 'Cinquecento', 'Galant', 'Qubo',\n",
       "       'Lantra', 'Baleno', '440', 'GS', '2008', 'S70', 'GT86', 'Murano',\n",
       "       'Caddy', '4007', 'GLK', 'Camry', 'Nitro', 'Sebring', 'Shuma',\n",
       "       'Veloster', 'Patrol', 'Expert', 'R8', 'Wind', 'Rapid', 'DB7',\n",
       "       'Corrado', 'Supra', 'Marea', 'Serena', 'Vaneo', 'Panamera',\n",
       "       'Copen', 'Logo', 'Explorer', 'Paceman', '960', 'RX', 'Tribute',\n",
       "       'M135i', 'Shuttle', 'Trafic', 'Journey', 'Phaeton', 'Justy',\n",
       "       'Orlando', 'Vito', 'Granada', 'Bipper', '370Z', 'RS6', 'John',\n",
       "       'Hilux', 'Legend', 'MX-3', 'GranCabrio', 'Scorpio', 'Rodius',\n",
       "       'Mustang', '121', 'Coupe', 'Leaf', 'Integra', 'Carrera', 'Croma',\n",
       "       'Zafira', 'GT-R', 'DS5', 'Korando', '309', '100', 'XV', 'Quattro',\n",
       "       'Probe', 'XKR', 'Pride', '19', 'Concerto', 'Leganza', 'Bluebird',\n",
       "       'MPV', 'Xedos', 'Pajero', 'Orion', 'Vento', 'Nexia', 'Mentor',\n",
       "       '460', '166', 'Maxima', 'Paseo', 'F430', '850i', 'Uno', 'Favorit',\n",
       "       '146', 'MX-6', '145', 'Safrane', 'Move', '928', 'Musso', 'Cooper',\n",
       "       'Tipo', 'Espero', 'XM', 'CRX', 'Tuscan', 'Vel', '21', 'Prairie',\n",
       "       'SJ', 'Esprit', 'Samurai', '360', 'Tempra', '155', 'Barchetta',\n",
       "       '90', 'TR7', 'Pony', '605', '25', '164', '11', '505', 'Marbella',\n",
       "       'Acclaim', 'X-90', 'Samara', '305', 'Griffith', '9', '33', 'Manta',\n",
       "       'Applause', '4', '3.6', 'Delta', 'Silvia', 'Sunny', '126',\n",
       "       'Tercel', 'Niva', 'Stellar', '99', '120', 'Kadett', '18', 'Dedra',\n",
       "       'Cherry', 'Marina', 'Laurel', 'Regata', '130', 'Thema', 'Stanza',\n",
       "       'Ital', 'Strada', 'Santana', 'Double', '105', 'Malaga', 'Ascona',\n",
       "       'Monza', 'Fuego', 'Derby', '104', 'Transit', 'Prisma', 'Senator',\n",
       "       '127', '200', 'Rekord', '929', 'Cressida', 'Quintet', '14', '20',\n",
       "       '1200', '504'], dtype=object)"
      ]
     },
     "execution_count": 13,
     "metadata": {},
     "output_type": "execute_result"
    }
   ],
   "source": [
    "columns['Model'].unique()"
   ]
  },
  {
   "cell_type": "code",
   "execution_count": 14,
   "id": "5364c709",
   "metadata": {},
   "outputs": [
    {
     "data": {
      "text/plain": [
       "Space        49\n",
       "Range        40\n",
       "CLA          33\n",
       "2000         31\n",
       "Cabriolet    26\n",
       "             ..\n",
       "M135i         1\n",
       "XV            1\n",
       "John          1\n",
       "CC            1\n",
       "504           1\n",
       "Name: Model, Length: 501, dtype: int64"
      ]
     },
     "execution_count": 14,
     "metadata": {},
     "output_type": "execute_result"
    }
   ],
   "source": [
    "columns['Model'].value_counts()"
   ]
  },
  {
   "cell_type": "code",
   "execution_count": 15,
   "id": "62152d91",
   "metadata": {},
   "outputs": [
    {
     "data": {
      "text/plain": [
       "<AxesSubplot:ylabel='Frequency'>"
      ]
     },
     "execution_count": 15,
     "metadata": {},
     "output_type": "execute_result"
    },
    {
     "data": {
      "image/png": "[encoded data removed]",
      "text/plain": [
       "<Figure size 432x288 with 1 Axes>"
      ]
     },
     "metadata": {
      "needs_background": "light"
     },
     "output_type": "display_data"
    }
   ],
   "source": [
    "columns['Model'].value_counts().plot(kind='hist')"
   ]
  },
  {
   "cell_type": "code",
   "execution_count": 16,
   "id": "846974b8",
   "metadata": {},
   "outputs": [
    {
     "data": {
      "text/html": [
       "<div>\n",
       "<style scoped>\n",
       "    .dataframe tbody tr th:only-of-type {\n",
       "        vertical-align: middle;\n",
       "    }\n",
       "\n",
       "    .dataframe tbody tr th {\n",
       "        vertical-align: top;\n",
       "    }\n",
       "\n",
       "    .dataframe thead th {\n",
       "        text-align: right;\n",
       "    }\n",
       "</style>\n",
       "<table border=\"1\" class=\"dataframe\">\n",
       "  <thead>\n",
       "    <tr style=\"text-align: right;\">\n",
       "      <th></th>\n",
       "      <th>Manufacturer</th>\n",
       "      <th>Model</th>\n",
       "      <th>Price</th>\n",
       "      <th>Power</th>\n",
       "    </tr>\n",
       "  </thead>\n",
       "  <tbody>\n",
       "    <tr>\n",
       "      <th>0</th>\n",
       "      <td>Ford</td>\n",
       "      <td>Focus</td>\n",
       "      <td>30.619322</td>\n",
       "      <td>94.033898</td>\n",
       "    </tr>\n",
       "    <tr>\n",
       "      <th>1</th>\n",
       "      <td>Ford</td>\n",
       "      <td>Fiesta</td>\n",
       "      <td>18.532143</td>\n",
       "      <td>68.571429</td>\n",
       "    </tr>\n",
       "    <tr>\n",
       "      <th>2</th>\n",
       "      <td>Volkswagen</td>\n",
       "      <td>Golf</td>\n",
       "      <td>31.242154</td>\n",
       "      <td>89.461538</td>\n",
       "    </tr>\n",
       "    <tr>\n",
       "      <th>3</th>\n",
       "      <td>Renault</td>\n",
       "      <td>Clio</td>\n",
       "      <td>22.100000</td>\n",
       "      <td>75.576923</td>\n",
       "    </tr>\n",
       "    <tr>\n",
       "      <th>4</th>\n",
       "      <td>BMW</td>\n",
       "      <td>320i</td>\n",
       "      <td>47.848370</td>\n",
       "      <td>126.111111</td>\n",
       "    </tr>\n",
       "    <tr>\n",
       "      <th>...</th>\n",
       "      <td>...</td>\n",
       "      <td>...</td>\n",
       "      <td>...</td>\n",
       "      <td>...</td>\n",
       "    </tr>\n",
       "    <tr>\n",
       "      <th>6087</th>\n",
       "      <td>Land-Rover</td>\n",
       "      <td>Defender</td>\n",
       "      <td>108.747195</td>\n",
       "      <td>207.609756</td>\n",
       "    </tr>\n",
       "    <tr>\n",
       "      <th>6088</th>\n",
       "      <td>Toyota</td>\n",
       "      <td>RAV4</td>\n",
       "      <td>43.548516</td>\n",
       "      <td>137.774193</td>\n",
       "    </tr>\n",
       "    <tr>\n",
       "      <th>6089</th>\n",
       "      <td>Alfa-Romeo</td>\n",
       "      <td>Spider</td>\n",
       "      <td>55.200000</td>\n",
       "      <td>163.500000</td>\n",
       "    </tr>\n",
       "    <tr>\n",
       "      <th>6090</th>\n",
       "      <td>Honda</td>\n",
       "      <td>Shuttle</td>\n",
       "      <td>30.081000</td>\n",
       "      <td>110.000000</td>\n",
       "    </tr>\n",
       "    <tr>\n",
       "      <th>6091</th>\n",
       "      <td>Mitsubishi</td>\n",
       "      <td>Space</td>\n",
       "      <td>23.165158</td>\n",
       "      <td>82.157895</td>\n",
       "    </tr>\n",
       "  </tbody>\n",
       "</table>\n",
       "<p>6092 rows × 4 columns</p>\n",
       "</div>"
      ],
      "text/plain": [
       "     Manufacturer     Model       Price       Power\n",
       "0            Ford     Focus   30.619322   94.033898\n",
       "1            Ford    Fiesta   18.532143   68.571429\n",
       "2      Volkswagen      Golf   31.242154   89.461538\n",
       "3         Renault      Clio   22.100000   75.576923\n",
       "4             BMW      320i   47.848370  126.111111\n",
       "...           ...       ...         ...         ...\n",
       "6087   Land-Rover  Defender  108.747195  207.609756\n",
       "6088       Toyota      RAV4   43.548516  137.774193\n",
       "6089   Alfa-Romeo    Spider   55.200000  163.500000\n",
       "6090        Honda   Shuttle   30.081000  110.000000\n",
       "6091   Mitsubishi     Space   23.165158   82.157895\n",
       "\n",
       "[6092 rows x 4 columns]"
      ]
     },
     "execution_count": 16,
     "metadata": {},
     "output_type": "execute_result"
    }
   ],
   "source": [
    "columns"
   ]
  },
  {
   "cell_type": "code",
   "execution_count": 17,
   "id": "de50dc91",
   "metadata": {},
   "outputs": [
    {
     "data": {
      "text/plain": [
       "count    6092.000000\n",
       "mean       41.230074\n",
       "std        51.357916\n",
       "min         3.332200\n",
       "25%        18.513000\n",
       "50%        29.043000\n",
       "75%        43.863631\n",
       "max       646.605000\n",
       "Name: Price, dtype: float64"
      ]
     },
     "execution_count": 17,
     "metadata": {},
     "output_type": "execute_result"
    }
   ],
   "source": [
    "columns['Price'].describe()"
   ]
  },
  {
   "cell_type": "code",
   "execution_count": 18,
   "id": "65b46065",
   "metadata": {},
   "outputs": [
    {
     "data": {
      "text/plain": [
       "<AxesSubplot:>"
      ]
     },
     "execution_count": 18,
     "metadata": {},
     "output_type": "execute_result"
    },
    {
     "data": {
      "image/png": "[encoded data removed]",
      "text/plain": [
       "<Figure size 432x288 with 1 Axes>"
      ]
     },
     "metadata": {
      "needs_background": "light"
     },
     "output_type": "display_data"
    }
   ],
   "source": [
    "columns['Price'].plot(kind='box')"
   ]
  },
  {
   "cell_type": "code",
   "execution_count": 19,
   "id": "f42d3a62",
   "metadata": {},
   "outputs": [],
   "source": [
    "df = pd.DataFrame(columns['Price'])"
   ]
  },
  {
   "cell_type": "code",
   "execution_count": 20,
   "id": "117fd675",
   "metadata": {},
   "outputs": [],
   "source": [
    "df['Price'] = df['Price'].astype(int)"
   ]
  },
  {
   "cell_type": "code",
   "execution_count": 21,
   "id": "cc718376",
   "metadata": {},
   "outputs": [
    {
     "data": {
      "text/plain": [
       "<AxesSubplot:>"
      ]
     },
     "execution_count": 21,
     "metadata": {},
     "output_type": "execute_result"
    },
    {
     "data": {
      "image/png": "[encoded data removed]",
      "text/plain": [
       "<Figure size 432x288 with 1 Axes>"
      ]
     },
     "metadata": {
      "needs_background": "light"
     },
     "output_type": "display_data"
    }
   ],
   "source": [
    "df[df['Price'] < 60].plot(kind='box') "
   ]
  },
  {
   "cell_type": "code",
   "execution_count": 22,
   "id": "8a68c1f8",
   "metadata": {},
   "outputs": [
    {
     "data": {
      "text/plain": [
       "0        94.033898\n",
       "1        68.571429\n",
       "2        89.461538\n",
       "3        75.576923\n",
       "4       126.111111\n",
       "           ...    \n",
       "6087    207.609756\n",
       "6088    137.774193\n",
       "6089    163.500000\n",
       "6090    110.000000\n",
       "6091     82.157895\n",
       "Name: Power, Length: 6092, dtype: float64"
      ]
     },
     "execution_count": 22,
     "metadata": {},
     "output_type": "execute_result"
    }
   ],
   "source": [
    "columns['Power']"
   ]
  },
  {
   "cell_type": "code",
   "execution_count": 23,
   "id": "99b35ba2",
   "metadata": {},
   "outputs": [],
   "source": [
    "df2=pd.DataFrame(columns['Power'])"
   ]
  },
  {
   "cell_type": "code",
   "execution_count": 24,
   "id": "a138b9fc",
   "metadata": {},
   "outputs": [],
   "source": [
    "df2['Power'] = columns['Power'].astype(int)"
   ]
  },
  {
   "cell_type": "code",
   "execution_count": 25,
   "id": "65d4cf18",
   "metadata": {},
   "outputs": [
    {
     "data": {
      "text/html": [
       "<div>\n",
       "<style scoped>\n",
       "    .dataframe tbody tr th:only-of-type {\n",
       "        vertical-align: middle;\n",
       "    }\n",
       "\n",
       "    .dataframe tbody tr th {\n",
       "        vertical-align: top;\n",
       "    }\n",
       "\n",
       "    .dataframe thead th {\n",
       "        text-align: right;\n",
       "    }\n",
       "</style>\n",
       "<table border=\"1\" class=\"dataframe\">\n",
       "  <thead>\n",
       "    <tr style=\"text-align: right;\">\n",
       "      <th></th>\n",
       "      <th>Manufacturer</th>\n",
       "      <th>Model</th>\n",
       "      <th>Price</th>\n",
       "      <th>Power</th>\n",
       "    </tr>\n",
       "  </thead>\n",
       "  <tbody>\n",
       "    <tr>\n",
       "      <th>0</th>\n",
       "      <td>Ford</td>\n",
       "      <td>Focus</td>\n",
       "      <td>30.619322</td>\n",
       "      <td>94.033898</td>\n",
       "    </tr>\n",
       "    <tr>\n",
       "      <th>1</th>\n",
       "      <td>Ford</td>\n",
       "      <td>Fiesta</td>\n",
       "      <td>18.532143</td>\n",
       "      <td>68.571429</td>\n",
       "    </tr>\n",
       "    <tr>\n",
       "      <th>2</th>\n",
       "      <td>Volkswagen</td>\n",
       "      <td>Golf</td>\n",
       "      <td>31.242154</td>\n",
       "      <td>89.461538</td>\n",
       "    </tr>\n",
       "    <tr>\n",
       "      <th>3</th>\n",
       "      <td>Renault</td>\n",
       "      <td>Clio</td>\n",
       "      <td>22.100000</td>\n",
       "      <td>75.576923</td>\n",
       "    </tr>\n",
       "    <tr>\n",
       "      <th>4</th>\n",
       "      <td>BMW</td>\n",
       "      <td>320i</td>\n",
       "      <td>47.848370</td>\n",
       "      <td>126.111111</td>\n",
       "    </tr>\n",
       "    <tr>\n",
       "      <th>...</th>\n",
       "      <td>...</td>\n",
       "      <td>...</td>\n",
       "      <td>...</td>\n",
       "      <td>...</td>\n",
       "    </tr>\n",
       "    <tr>\n",
       "      <th>6087</th>\n",
       "      <td>Land-Rover</td>\n",
       "      <td>Defender</td>\n",
       "      <td>108.747195</td>\n",
       "      <td>207.609756</td>\n",
       "    </tr>\n",
       "    <tr>\n",
       "      <th>6088</th>\n",
       "      <td>Toyota</td>\n",
       "      <td>RAV4</td>\n",
       "      <td>43.548516</td>\n",
       "      <td>137.774193</td>\n",
       "    </tr>\n",
       "    <tr>\n",
       "      <th>6089</th>\n",
       "      <td>Alfa-Romeo</td>\n",
       "      <td>Spider</td>\n",
       "      <td>55.200000</td>\n",
       "      <td>163.500000</td>\n",
       "    </tr>\n",
       "    <tr>\n",
       "      <th>6090</th>\n",
       "      <td>Honda</td>\n",
       "      <td>Shuttle</td>\n",
       "      <td>30.081000</td>\n",
       "      <td>110.000000</td>\n",
       "    </tr>\n",
       "    <tr>\n",
       "      <th>6091</th>\n",
       "      <td>Mitsubishi</td>\n",
       "      <td>Space</td>\n",
       "      <td>23.165158</td>\n",
       "      <td>82.157895</td>\n",
       "    </tr>\n",
       "  </tbody>\n",
       "</table>\n",
       "<p>6092 rows × 4 columns</p>\n",
       "</div>"
      ],
      "text/plain": [
       "     Manufacturer     Model       Price       Power\n",
       "0            Ford     Focus   30.619322   94.033898\n",
       "1            Ford    Fiesta   18.532143   68.571429\n",
       "2      Volkswagen      Golf   31.242154   89.461538\n",
       "3         Renault      Clio   22.100000   75.576923\n",
       "4             BMW      320i   47.848370  126.111111\n",
       "...           ...       ...         ...         ...\n",
       "6087   Land-Rover  Defender  108.747195  207.609756\n",
       "6088       Toyota      RAV4   43.548516  137.774193\n",
       "6089   Alfa-Romeo    Spider   55.200000  163.500000\n",
       "6090        Honda   Shuttle   30.081000  110.000000\n",
       "6091   Mitsubishi     Space   23.165158   82.157895\n",
       "\n",
       "[6092 rows x 4 columns]"
      ]
     },
     "execution_count": 25,
     "metadata": {},
     "output_type": "execute_result"
    }
   ],
   "source": [
    "columns"
   ]
  },
  {
   "cell_type": "code",
   "execution_count": 26,
   "id": "e2e4b4a0",
   "metadata": {},
   "outputs": [
    {
     "data": {
      "text/plain": [
       "count    6092.000000\n",
       "mean      111.150854\n",
       "std        67.667619\n",
       "min        15.000000\n",
       "25%        70.000000\n",
       "50%        94.000000\n",
       "75%       121.000000\n",
       "max       450.000000\n",
       "Name: Power, dtype: float64"
      ]
     },
     "execution_count": 26,
     "metadata": {},
     "output_type": "execute_result"
    }
   ],
   "source": [
    "df2['Power'].describe()"
   ]
  },
  {
   "cell_type": "code",
   "execution_count": 27,
   "id": "0c64a502",
   "metadata": {},
   "outputs": [
    {
     "data": {
      "text/plain": [
       "<AxesSubplot:>"
      ]
     },
     "execution_count": 27,
     "metadata": {},
     "output_type": "execute_result"
    },
    {
     "data": {
      "image/png": "[encoded data removed]",
      "text/plain": [
       "<Figure size 432x288 with 1 Axes>"
      ]
     },
     "metadata": {
      "needs_background": "light"
     },
     "output_type": "display_data"
    }
   ],
   "source": [
    "df2['Power'].plot(kind='box')"
   ]
  },
  {
   "cell_type": "code",
   "execution_count": 28,
   "id": "f49cc14a",
   "metadata": {},
   "outputs": [
    {
     "data": {
      "text/plain": [
       "<AxesSubplot:>"
      ]
     },
     "execution_count": 28,
     "metadata": {},
     "output_type": "execute_result"
    },
    {
     "data": {
      "image/png": "[encoded data removed]",
      "text/plain": [
       "<Figure size 432x288 with 1 Axes>"
      ]
     },
     "metadata": {
      "needs_background": "light"
     },
     "output_type": "display_data"
    }
   ],
   "source": [
    "df2[df2['Power'] < 175].plot(kind='box') "
   ]
  },
  {
   "cell_type": "code",
   "execution_count": null,
   "id": "b8d7c519",
   "metadata": {},
   "outputs": [],
   "source": []
  },
  {
   "cell_type": "code",
   "execution_count": null,
   "id": "5754a824",
   "metadata": {},
   "outputs": [],
   "source": []
  }
 ],
 "metadata": {
  "kernelspec": {
   "display_name": "Python 3 (ipykernel)",
   "language": "python",
   "name": "python3"
  },
  "language_info": {
   "codemirror_mode": {
    "name": "ipython",
    "version": 3
   },
   "file_extension": ".py",
   "mimetype": "text/x-python",
   "name": "python",
   "nbconvert_exporter": "python",
   "pygments_lexer": "ipython3",
   "version": "3.9.7"
  }
 },
 "nbformat": 4,
 "nbformat_minor": 5
}
