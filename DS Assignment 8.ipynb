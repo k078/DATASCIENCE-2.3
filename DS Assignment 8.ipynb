{
 "cells": [
  {
   "cell_type": "code",
   "execution_count": 1,
   "id": "095a079b",
   "metadata": {},
   "outputs": [],
   "source": [
    "import seaborn as sns\n",
    "import pandas as pd"
   ]
  },
  {
   "cell_type": "code",
   "execution_count": 2,
   "id": "3fd93b43",
   "metadata": {},
   "outputs": [],
   "source": [
    "data = pd.read_csv('CarBuyers.csv')"
   ]
  },
  {
   "cell_type": "code",
   "execution_count": 3,
   "id": "f13eca93",
   "metadata": {},
   "outputs": [
    {
     "data": {
      "text/html": [
       "<div>\n",
       "<style scoped>\n",
       "    .dataframe tbody tr th:only-of-type {\n",
       "        vertical-align: middle;\n",
       "    }\n",
       "\n",
       "    .dataframe tbody tr th {\n",
       "        vertical-align: top;\n",
       "    }\n",
       "\n",
       "    .dataframe thead th {\n",
       "        text-align: right;\n",
       "    }\n",
       "</style>\n",
       "<table border=\"1\" class=\"dataframe\">\n",
       "  <thead>\n",
       "    <tr style=\"text-align: right;\">\n",
       "      <th></th>\n",
       "      <th>Manufacturer</th>\n",
       "      <th>Model</th>\n",
       "      <th>Price</th>\n",
       "      <th>Transmission</th>\n",
       "      <th>Power</th>\n",
       "      <th>Engine CC</th>\n",
       "      <th>Fuel</th>\n",
       "      <th>Male</th>\n",
       "      <th>Female</th>\n",
       "      <th>Unknown</th>\n",
       "      <th>Total</th>\n",
       "    </tr>\n",
       "  </thead>\n",
       "  <tbody>\n",
       "    <tr>\n",
       "      <th>0</th>\n",
       "      <td>Ford</td>\n",
       "      <td>Focus</td>\n",
       "      <td>30.619322</td>\n",
       "      <td>5.966102</td>\n",
       "      <td>94.033898</td>\n",
       "      <td>1497.169492</td>\n",
       "      <td>petrol</td>\n",
       "      <td>814172</td>\n",
       "      <td>422731</td>\n",
       "      <td>56,487</td>\n",
       "      <td>1293390</td>\n",
       "    </tr>\n",
       "    <tr>\n",
       "      <th>1</th>\n",
       "      <td>Ford</td>\n",
       "      <td>Fiesta</td>\n",
       "      <td>18.532143</td>\n",
       "      <td>5.714286</td>\n",
       "      <td>68.571429</td>\n",
       "      <td>1166.142857</td>\n",
       "      <td>petrol</td>\n",
       "      <td>554879</td>\n",
       "      <td>631666</td>\n",
       "      <td>54,057</td>\n",
       "      <td>1240602</td>\n",
       "    </tr>\n",
       "    <tr>\n",
       "      <th>2</th>\n",
       "      <td>Volkswagen</td>\n",
       "      <td>Golf</td>\n",
       "      <td>31.242154</td>\n",
       "      <td>6.164835</td>\n",
       "      <td>89.461538</td>\n",
       "      <td>1537.406593</td>\n",
       "      <td>petrol</td>\n",
       "      <td>483216</td>\n",
       "      <td>310604</td>\n",
       "      <td>47,563</td>\n",
       "      <td>841383</td>\n",
       "    </tr>\n",
       "    <tr>\n",
       "      <th>3</th>\n",
       "      <td>Renault</td>\n",
       "      <td>Clio</td>\n",
       "      <td>22.100000</td>\n",
       "      <td>5.615385</td>\n",
       "      <td>75.576923</td>\n",
       "      <td>1219.653846</td>\n",
       "      <td>petrol</td>\n",
       "      <td>241287</td>\n",
       "      <td>312556</td>\n",
       "      <td>28,004</td>\n",
       "      <td>581847</td>\n",
       "    </tr>\n",
       "    <tr>\n",
       "      <th>4</th>\n",
       "      <td>BMW</td>\n",
       "      <td>320i</td>\n",
       "      <td>47.848370</td>\n",
       "      <td>6.444444</td>\n",
       "      <td>126.111111</td>\n",
       "      <td>1995.777778</td>\n",
       "      <td>petrol</td>\n",
       "      <td>408016</td>\n",
       "      <td>115843</td>\n",
       "      <td>29,125</td>\n",
       "      <td>552984</td>\n",
       "    </tr>\n",
       "  </tbody>\n",
       "</table>\n",
       "</div>"
      ],
      "text/plain": [
       "  Manufacturer   Model      Price  Transmission       Power    Engine CC  \\\n",
       "0         Ford   Focus  30.619322      5.966102   94.033898  1497.169492   \n",
       "1         Ford  Fiesta  18.532143      5.714286   68.571429  1166.142857   \n",
       "2   Volkswagen    Golf  31.242154      6.164835   89.461538  1537.406593   \n",
       "3      Renault    Clio  22.100000      5.615385   75.576923  1219.653846   \n",
       "4          BMW    320i  47.848370      6.444444  126.111111  1995.777778   \n",
       "\n",
       "     Fuel    Male  Female Unknown    Total  \n",
       "0  petrol  814172  422731  56,487  1293390  \n",
       "1  petrol  554879  631666  54,057  1240602  \n",
       "2  petrol  483216  310604  47,563   841383  \n",
       "3  petrol  241287  312556  28,004   581847  \n",
       "4  petrol  408016  115843  29,125   552984  "
      ]
     },
     "execution_count": 3,
     "metadata": {},
     "output_type": "execute_result"
    }
   ],
   "source": [
    "data.head()"
   ]
  },
  {
   "cell_type": "code",
   "execution_count": 20,
   "id": "49622826",
   "metadata": {},
   "outputs": [
    {
     "name": "stdout",
     "output_type": "stream",
     "text": [
      "<class 'pandas.core.frame.DataFrame'>\n",
      "RangeIndex: 6092 entries, 0 to 6091\n",
      "Data columns (total 11 columns):\n",
      " #   Column        Non-Null Count  Dtype  \n",
      "---  ------        --------------  -----  \n",
      " 0   Manufacturer  6092 non-null   object \n",
      " 1   Model         6092 non-null   object \n",
      " 2   Price         6092 non-null   float64\n",
      " 3   Transmission  6092 non-null   float64\n",
      " 4   Power         6092 non-null   float64\n",
      " 5   Engine CC     6092 non-null   float64\n",
      " 6   Fuel          6092 non-null   object \n",
      " 7   Male          6092 non-null   object \n",
      " 8   Female        6092 non-null   object \n",
      " 9   Unknown       6092 non-null   object \n",
      " 10  Total         6092 non-null   object \n",
      "dtypes: float64(4), object(7)\n",
      "memory usage: 523.7+ KB\n"
     ]
    }
   ],
   "source": [
    "data.info()"
   ]
  },
  {
   "cell_type": "code",
   "execution_count": 7,
   "id": "21d5c641",
   "metadata": {},
   "outputs": [
    {
     "data": {
      "text/plain": [
       "(110.05360070871237, 112.90416215605225)"
      ]
     },
     "execution_count": 7,
     "metadata": {},
     "output_type": "execute_result"
    }
   ],
   "source": [
    "import scipy.stats as st\n",
    "confidence = 0.9\n",
    "st.t.interval(confidence, len(data)-1, loc=data['Power'].mean(), scale=st.sem(data['Power']))"
   ]
  },
  {
   "cell_type": "code",
   "execution_count": 8,
   "id": "b8260e12",
   "metadata": {},
   "outputs": [
    {
     "data": {
      "text/plain": [
       "(109.78047550462031, 113.1772873601443)"
      ]
     },
     "execution_count": 8,
     "metadata": {},
     "output_type": "execute_result"
    }
   ],
   "source": [
    "confidence = 0.95\n",
    "st.t.interval(confidence, len(data)-1, loc=data['Power'].mean(), scale=st.sem(data['Power']))"
   ]
  },
  {
   "cell_type": "code",
   "execution_count": 9,
   "id": "f56cec33",
   "metadata": {},
   "outputs": [
    {
     "data": {
      "text/plain": [
       "(109.24654169671389, 113.71122116805073)"
      ]
     },
     "execution_count": 9,
     "metadata": {},
     "output_type": "execute_result"
    }
   ],
   "source": [
    "confidence = 0.99\n",
    "st.t.interval(confidence, len(data)-1, loc=data['Power'].mean(), scale=st.sem(data['Power']))"
   ]
  },
  {
   "cell_type": "code",
   "execution_count": 10,
   "id": "bbae8a00",
   "metadata": {},
   "outputs": [
    {
     "data": {
      "text/plain": [
       "(108.10592688098973, 114.85183598377489)"
      ]
     },
     "execution_count": 10,
     "metadata": {},
     "output_type": "execute_result"
    }
   ],
   "source": [
    "confidence = 0.9999\n",
    "st.t.interval(confidence, len(data)-1, loc=data['Power'].mean(), scale=st.sem(data['Power']))"
   ]
  },
  {
   "cell_type": "markdown",
   "id": "36191ce1",
   "metadata": {},
   "source": [
    "Ik zie dat bij een confidence van 99,99% dat de interval wel toegenomen is ten opzichte van de 90%. Dan kun je beter zeggen dat met een zekerheid van 90% alle verkochte auto's een vermogen heeft tussen de 110pk en ongeveer 113pk dan de 00,01% want er zijn behoorlijk wat uitschieters die je dan niet echt meeneemt."
   ]
  },
  {
   "cell_type": "code",
   "execution_count": 11,
   "id": "5cae1abb",
   "metadata": {},
   "outputs": [
    {
     "data": {
      "text/plain": [
       "(40.14759130812931, 42.31255570503667)"
      ]
     },
     "execution_count": 11,
     "metadata": {},
     "output_type": "execute_result"
    }
   ],
   "source": [
    "confidence = 0.9\n",
    "st.t.interval(confidence, len(data)-1, loc=data['Price'].mean(), scale=st.sem(data['Price']))"
   ]
  },
  {
   "cell_type": "code",
   "execution_count": 12,
   "id": "702536f5",
   "metadata": {},
   "outputs": [
    {
     "data": {
      "text/plain": [
       "(39.940156262900175, 42.519990750265805)"
      ]
     },
     "execution_count": 12,
     "metadata": {},
     "output_type": "execute_result"
    }
   ],
   "source": [
    "confidence = 0.95\n",
    "st.t.interval(confidence, len(data)-1, loc=data['Price'].mean(), scale=st.sem(data['Price']))"
   ]
  },
  {
   "cell_type": "code",
   "execution_count": 13,
   "id": "3697552a",
   "metadata": {},
   "outputs": [
    {
     "data": {
      "text/plain": [
       "(39.53464047038805, 42.92550654277793)"
      ]
     },
     "execution_count": 13,
     "metadata": {},
     "output_type": "execute_result"
    }
   ],
   "source": [
    "confidence = 0.99\n",
    "st.t.interval(confidence, len(data)-1, loc=data['Price'].mean(), scale=st.sem(data['Price']))"
   ]
  },
  {
   "cell_type": "code",
   "execution_count": 14,
   "id": "f9578a22",
   "metadata": {},
   "outputs": [
    {
     "data": {
      "text/plain": [
       "(38.668358331852744, 43.791788681313236)"
      ]
     },
     "execution_count": 14,
     "metadata": {},
     "output_type": "execute_result"
    }
   ],
   "source": [
    "confidence = 0.9999\n",
    "st.t.interval(confidence, len(data)-1, loc=data['Price'].mean(), scale=st.sem(data['Price']))"
   ]
  },
  {
   "cell_type": "markdown",
   "id": "f0646c72",
   "metadata": {},
   "source": [
    "Ik zie dat bij de prijs hetzelfde gebeurd als bij de interval van Power."
   ]
  },
  {
   "cell_type": "code",
   "execution_count": 15,
   "id": "d75f1db1",
   "metadata": {},
   "outputs": [
    {
     "data": {
      "text/html": [
       "<div>\n",
       "<style scoped>\n",
       "    .dataframe tbody tr th:only-of-type {\n",
       "        vertical-align: middle;\n",
       "    }\n",
       "\n",
       "    .dataframe tbody tr th {\n",
       "        vertical-align: top;\n",
       "    }\n",
       "\n",
       "    .dataframe thead th {\n",
       "        text-align: right;\n",
       "    }\n",
       "</style>\n",
       "<table border=\"1\" class=\"dataframe\">\n",
       "  <thead>\n",
       "    <tr style=\"text-align: right;\">\n",
       "      <th></th>\n",
       "      <th>Manufacturer</th>\n",
       "      <th>Model</th>\n",
       "      <th>Price</th>\n",
       "      <th>Transmission</th>\n",
       "      <th>Power</th>\n",
       "      <th>Engine CC</th>\n",
       "      <th>Fuel</th>\n",
       "      <th>Male</th>\n",
       "      <th>Female</th>\n",
       "      <th>Unknown</th>\n",
       "      <th>Total</th>\n",
       "    </tr>\n",
       "  </thead>\n",
       "  <tbody>\n",
       "    <tr>\n",
       "      <th>0</th>\n",
       "      <td>Ford</td>\n",
       "      <td>Focus</td>\n",
       "      <td>30.619322</td>\n",
       "      <td>5.966102</td>\n",
       "      <td>94.033898</td>\n",
       "      <td>1497.169492</td>\n",
       "      <td>petrol</td>\n",
       "      <td>814172</td>\n",
       "      <td>422731</td>\n",
       "      <td>56,487</td>\n",
       "      <td>1293390</td>\n",
       "    </tr>\n",
       "    <tr>\n",
       "      <th>1</th>\n",
       "      <td>Ford</td>\n",
       "      <td>Fiesta</td>\n",
       "      <td>18.532143</td>\n",
       "      <td>5.714286</td>\n",
       "      <td>68.571429</td>\n",
       "      <td>1166.142857</td>\n",
       "      <td>petrol</td>\n",
       "      <td>554879</td>\n",
       "      <td>631666</td>\n",
       "      <td>54,057</td>\n",
       "      <td>1240602</td>\n",
       "    </tr>\n",
       "    <tr>\n",
       "      <th>2</th>\n",
       "      <td>Volkswagen</td>\n",
       "      <td>Golf</td>\n",
       "      <td>31.242154</td>\n",
       "      <td>6.164835</td>\n",
       "      <td>89.461538</td>\n",
       "      <td>1537.406593</td>\n",
       "      <td>petrol</td>\n",
       "      <td>483216</td>\n",
       "      <td>310604</td>\n",
       "      <td>47,563</td>\n",
       "      <td>841383</td>\n",
       "    </tr>\n",
       "    <tr>\n",
       "      <th>3</th>\n",
       "      <td>Renault</td>\n",
       "      <td>Clio</td>\n",
       "      <td>22.100000</td>\n",
       "      <td>5.615385</td>\n",
       "      <td>75.576923</td>\n",
       "      <td>1219.653846</td>\n",
       "      <td>petrol</td>\n",
       "      <td>241287</td>\n",
       "      <td>312556</td>\n",
       "      <td>28,004</td>\n",
       "      <td>581847</td>\n",
       "    </tr>\n",
       "    <tr>\n",
       "      <th>4</th>\n",
       "      <td>BMW</td>\n",
       "      <td>320i</td>\n",
       "      <td>47.848370</td>\n",
       "      <td>6.444444</td>\n",
       "      <td>126.111111</td>\n",
       "      <td>1995.777778</td>\n",
       "      <td>petrol</td>\n",
       "      <td>408016</td>\n",
       "      <td>115843</td>\n",
       "      <td>29,125</td>\n",
       "      <td>552984</td>\n",
       "    </tr>\n",
       "    <tr>\n",
       "      <th>5</th>\n",
       "      <td>Volkswagen</td>\n",
       "      <td>Polo</td>\n",
       "      <td>18.192500</td>\n",
       "      <td>5.074074</td>\n",
       "      <td>60.962963</td>\n",
       "      <td>1408.055556</td>\n",
       "      <td>petrol</td>\n",
       "      <td>216333</td>\n",
       "      <td>299110</td>\n",
       "      <td>31,701</td>\n",
       "      <td>547144</td>\n",
       "    </tr>\n",
       "    <tr>\n",
       "      <th>6</th>\n",
       "      <td>Peugeot</td>\n",
       "      <td>206</td>\n",
       "      <td>20.033750</td>\n",
       "      <td>4.833333</td>\n",
       "      <td>71.333333</td>\n",
       "      <td>1631.500000</td>\n",
       "      <td>petrol</td>\n",
       "      <td>178698</td>\n",
       "      <td>250614</td>\n",
       "      <td>26,135</td>\n",
       "      <td>455447</td>\n",
       "    </tr>\n",
       "    <tr>\n",
       "      <th>7</th>\n",
       "      <td>Ford</td>\n",
       "      <td>Mondeo</td>\n",
       "      <td>39.973750</td>\n",
       "      <td>1.750000</td>\n",
       "      <td>130.250000</td>\n",
       "      <td>1998.500000</td>\n",
       "      <td>petrol</td>\n",
       "      <td>357452</td>\n",
       "      <td>69,603</td>\n",
       "      <td>16,550</td>\n",
       "      <td>443605</td>\n",
       "    </tr>\n",
       "    <tr>\n",
       "      <th>8</th>\n",
       "      <td>Nissan</td>\n",
       "      <td>Micra</td>\n",
       "      <td>20.377609</td>\n",
       "      <td>4.869565</td>\n",
       "      <td>67.956522</td>\n",
       "      <td>1279.695652</td>\n",
       "      <td>petrol</td>\n",
       "      <td>143218</td>\n",
       "      <td>253000</td>\n",
       "      <td>26,619</td>\n",
       "      <td>422837</td>\n",
       "    </tr>\n",
       "    <tr>\n",
       "      <th>9</th>\n",
       "      <td>Honda</td>\n",
       "      <td>Civic</td>\n",
       "      <td>29.942625</td>\n",
       "      <td>4.500000</td>\n",
       "      <td>106.225000</td>\n",
       "      <td>1480.575000</td>\n",
       "      <td>petrol</td>\n",
       "      <td>242188</td>\n",
       "      <td>132958</td>\n",
       "      <td>21,042</td>\n",
       "      <td>396188</td>\n",
       "    </tr>\n",
       "  </tbody>\n",
       "</table>\n",
       "</div>"
      ],
      "text/plain": [
       "  Manufacturer   Model      Price  Transmission       Power    Engine CC  \\\n",
       "0         Ford   Focus  30.619322      5.966102   94.033898  1497.169492   \n",
       "1         Ford  Fiesta  18.532143      5.714286   68.571429  1166.142857   \n",
       "2   Volkswagen    Golf  31.242154      6.164835   89.461538  1537.406593   \n",
       "3      Renault    Clio  22.100000      5.615385   75.576923  1219.653846   \n",
       "4          BMW    320i  47.848370      6.444444  126.111111  1995.777778   \n",
       "5   Volkswagen    Polo  18.192500      5.074074   60.962963  1408.055556   \n",
       "6      Peugeot     206  20.033750      4.833333   71.333333  1631.500000   \n",
       "7         Ford  Mondeo  39.973750      1.750000  130.250000  1998.500000   \n",
       "8       Nissan   Micra  20.377609      4.869565   67.956522  1279.695652   \n",
       "9        Honda   Civic  29.942625      4.500000  106.225000  1480.575000   \n",
       "\n",
       "     Fuel    Male  Female Unknown    Total  \n",
       "0  petrol  814172  422731  56,487  1293390  \n",
       "1  petrol  554879  631666  54,057  1240602  \n",
       "2  petrol  483216  310604  47,563   841383  \n",
       "3  petrol  241287  312556  28,004   581847  \n",
       "4  petrol  408016  115843  29,125   552984  \n",
       "5  petrol  216333  299110  31,701   547144  \n",
       "6  petrol  178698  250614  26,135   455447  \n",
       "7  petrol  357452  69,603  16,550   443605  \n",
       "8  petrol  143218  253000  26,619   422837  \n",
       "9  petrol  242188  132958  21,042   396188  "
      ]
     },
     "execution_count": 15,
     "metadata": {},
     "output_type": "execute_result"
    }
   ],
   "source": [
    "data[:10]"
   ]
  },
  {
   "cell_type": "code",
   "execution_count": 29,
   "id": "f96027e2",
   "metadata": {},
   "outputs": [],
   "source": [
    "dataPower=data['Power']"
   ]
  },
  {
   "cell_type": "code",
   "execution_count": 30,
   "id": "4550408b",
   "metadata": {},
   "outputs": [],
   "source": [
    "dataPower = dataPower[:609]"
   ]
  },
  {
   "cell_type": "code",
   "execution_count": 31,
   "id": "2339d6ac",
   "metadata": {},
   "outputs": [
    {
     "data": {
      "text/plain": [
       "0       94.033898\n",
       "1       68.571429\n",
       "2       89.461538\n",
       "3       75.576923\n",
       "4      126.111111\n",
       "          ...    \n",
       "604    120.333333\n",
       "605     51.375000\n",
       "606     50.875000\n",
       "607    235.000000\n",
       "608     55.400000\n",
       "Name: Power, Length: 609, dtype: float64"
      ]
     },
     "execution_count": 31,
     "metadata": {},
     "output_type": "execute_result"
    }
   ],
   "source": [
    "dataPower"
   ]
  },
  {
   "cell_type": "code",
   "execution_count": 33,
   "id": "9beee926",
   "metadata": {},
   "outputs": [
    {
     "data": {
      "text/plain": [
       "(110.17797584316178, 120.71274162974477)"
      ]
     },
     "execution_count": 33,
     "metadata": {},
     "output_type": "execute_result"
    }
   ],
   "source": [
    "confidence = 0.95\n",
    "st.t.interval(confidence, len(dataPower)-1, loc=dataPower.mean(), scale=st.sem(dataPower))"
   ]
  },
  {
   "cell_type": "markdown",
   "id": "0a4785ed",
   "metadata": {},
   "source": [
    "Als ik alleen de eerste 10% van alle rows selecteer zie je dat het interval van 110-113 naar 110-120 is gegaan wat best wel veel verschil is. Deze interval is dus niet representatief voor de hele tabel."
   ]
  },
  {
   "cell_type": "code",
   "execution_count": 36,
   "id": "4dfab731",
   "metadata": {},
   "outputs": [],
   "source": [
    "dataPrice=data['Price']"
   ]
  },
  {
   "cell_type": "code",
   "execution_count": 37,
   "id": "d71a3db4",
   "metadata": {},
   "outputs": [],
   "source": [
    "dataPrice = dataPrice[:609]"
   ]
  },
  {
   "cell_type": "code",
   "execution_count": 38,
   "id": "395793d0",
   "metadata": {},
   "outputs": [
    {
     "data": {
      "text/plain": [
       "(39.26796042250797, 46.51046440273991)"
      ]
     },
     "execution_count": 38,
     "metadata": {},
     "output_type": "execute_result"
    }
   ],
   "source": [
    "confidence = 0.95\n",
    "st.t.interval(confidence, len(dataPrice)-1, loc=dataPrice.mean(), scale=st.sem(dataPrice))"
   ]
  },
  {
   "cell_type": "markdown",
   "id": "6a8c48b8",
   "metadata": {},
   "source": [
    "Bij de prijs is het interval minder groot geworden als bij Power maar alsnog is er wel zeker een significant verschil. Ook deze is niet representatief voor de rest van alle waardes."
   ]
  },
  {
   "cell_type": "code",
   "execution_count": null,
   "id": "ddc979f0",
   "metadata": {},
   "outputs": [],
   "source": []
  }
 ],
 "metadata": {
  "kernelspec": {
   "display_name": "Python 3 (ipykernel)",
   "language": "python",
   "name": "python3"
  },
  "language_info": {
   "codemirror_mode": {
    "name": "ipython",
    "version": 3
   },
   "file_extension": ".py",
   "mimetype": "text/x-python",
   "name": "python",
   "nbconvert_exporter": "python",
   "pygments_lexer": "ipython3",
   "version": "3.9.7"
  }
 },
 "nbformat": 4,
 "nbformat_minor": 5
}
