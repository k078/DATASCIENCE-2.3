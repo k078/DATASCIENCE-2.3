{
 "cells": [
  {
   "cell_type": "code",
   "execution_count": 1,
   "id": "a870c1ee",
   "metadata": {},
   "outputs": [],
   "source": [
    "import pandas as pd\n",
    "import seaborn as sns"
   ]
  },
  {
   "cell_type": "code",
   "execution_count": 2,
   "id": "65c54a63",
   "metadata": {},
   "outputs": [],
   "source": [
    "data = pd.read_csv('CarBuyers.csv')"
   ]
  },
  {
   "cell_type": "code",
   "execution_count": null,
   "id": "d09632a3",
   "metadata": {},
   "outputs": [],
   "source": [
    "filtered=data.loc[(data['Fuel']=='petrol')| (data['Fuel']=='diesel')]"
   ]
  },
  {
   "cell_type": "markdown",
   "id": "ad6c79c9",
   "metadata": {},
   "source": [
    "Ik zoek alleen op Petrol en Diesel omdat er een foute tussen zitten genaamd automatic en dat is geen brandstoftype."
   ]
  },
  {
   "cell_type": "code",
   "execution_count": 24,
   "id": "2c38122b",
   "metadata": {},
   "outputs": [],
   "source": [
    "filteredManu=data.loc[(data['Manufacturer']=='Audi')| (data['Manufacturer']=='Volkswagen')| (data['Manufacturer']=='BMW')]"
   ]
  },
  {
   "cell_type": "markdown",
   "id": "a54475c4",
   "metadata": {},
   "source": [
    "Ik filter hier op 3 bekende automerken om zo een overzichtelijke tabel te kunnen maken omdat er anders veel te veel merken zijn de tabel onleesbaar wordt."
   ]
  },
  {
   "cell_type": "code",
   "execution_count": 25,
   "id": "6e17796b",
   "metadata": {},
   "outputs": [
    {
     "data": {
      "text/html": [
       "<div>\n",
       "<style scoped>\n",
       "    .dataframe tbody tr th:only-of-type {\n",
       "        vertical-align: middle;\n",
       "    }\n",
       "\n",
       "    .dataframe tbody tr th {\n",
       "        vertical-align: top;\n",
       "    }\n",
       "\n",
       "    .dataframe thead th {\n",
       "        text-align: right;\n",
       "    }\n",
       "</style>\n",
       "<table border=\"1\" class=\"dataframe\">\n",
       "  <thead>\n",
       "    <tr style=\"text-align: right;\">\n",
       "      <th></th>\n",
       "      <th>Manufacturer</th>\n",
       "      <th>Model</th>\n",
       "      <th>Price</th>\n",
       "      <th>Transmission</th>\n",
       "      <th>Power</th>\n",
       "      <th>Engine CC</th>\n",
       "      <th>Fuel</th>\n",
       "      <th>Male</th>\n",
       "      <th>Female</th>\n",
       "      <th>Unknown</th>\n",
       "      <th>Total</th>\n",
       "    </tr>\n",
       "  </thead>\n",
       "  <tbody>\n",
       "    <tr>\n",
       "      <th>0</th>\n",
       "      <td>Ford</td>\n",
       "      <td>Focus</td>\n",
       "      <td>30.619322</td>\n",
       "      <td>5.966102</td>\n",
       "      <td>94.033898</td>\n",
       "      <td>1497.169492</td>\n",
       "      <td>petrol</td>\n",
       "      <td>814172</td>\n",
       "      <td>422731</td>\n",
       "      <td>56,487</td>\n",
       "      <td>1293390</td>\n",
       "    </tr>\n",
       "    <tr>\n",
       "      <th>1</th>\n",
       "      <td>Ford</td>\n",
       "      <td>Fiesta</td>\n",
       "      <td>18.532143</td>\n",
       "      <td>5.714286</td>\n",
       "      <td>68.571429</td>\n",
       "      <td>1166.142857</td>\n",
       "      <td>petrol</td>\n",
       "      <td>554879</td>\n",
       "      <td>631666</td>\n",
       "      <td>54,057</td>\n",
       "      <td>1240602</td>\n",
       "    </tr>\n",
       "    <tr>\n",
       "      <th>2</th>\n",
       "      <td>Volkswagen</td>\n",
       "      <td>Golf</td>\n",
       "      <td>31.242154</td>\n",
       "      <td>6.164835</td>\n",
       "      <td>89.461538</td>\n",
       "      <td>1537.406593</td>\n",
       "      <td>petrol</td>\n",
       "      <td>483216</td>\n",
       "      <td>310604</td>\n",
       "      <td>47,563</td>\n",
       "      <td>841383</td>\n",
       "    </tr>\n",
       "    <tr>\n",
       "      <th>3</th>\n",
       "      <td>Renault</td>\n",
       "      <td>Clio</td>\n",
       "      <td>22.100000</td>\n",
       "      <td>5.615385</td>\n",
       "      <td>75.576923</td>\n",
       "      <td>1219.653846</td>\n",
       "      <td>petrol</td>\n",
       "      <td>241287</td>\n",
       "      <td>312556</td>\n",
       "      <td>28,004</td>\n",
       "      <td>581847</td>\n",
       "    </tr>\n",
       "    <tr>\n",
       "      <th>4</th>\n",
       "      <td>BMW</td>\n",
       "      <td>320i</td>\n",
       "      <td>47.848370</td>\n",
       "      <td>6.444444</td>\n",
       "      <td>126.111111</td>\n",
       "      <td>1995.777778</td>\n",
       "      <td>petrol</td>\n",
       "      <td>408016</td>\n",
       "      <td>115843</td>\n",
       "      <td>29,125</td>\n",
       "      <td>552984</td>\n",
       "    </tr>\n",
       "  </tbody>\n",
       "</table>\n",
       "</div>"
      ],
      "text/plain": [
       "  Manufacturer   Model      Price  Transmission       Power    Engine CC  \\\n",
       "0         Ford   Focus  30.619322      5.966102   94.033898  1497.169492   \n",
       "1         Ford  Fiesta  18.532143      5.714286   68.571429  1166.142857   \n",
       "2   Volkswagen    Golf  31.242154      6.164835   89.461538  1537.406593   \n",
       "3      Renault    Clio  22.100000      5.615385   75.576923  1219.653846   \n",
       "4          BMW    320i  47.848370      6.444444  126.111111  1995.777778   \n",
       "\n",
       "     Fuel    Male  Female Unknown    Total  \n",
       "0  petrol  814172  422731  56,487  1293390  \n",
       "1  petrol  554879  631666  54,057  1240602  \n",
       "2  petrol  483216  310604  47,563   841383  \n",
       "3  petrol  241287  312556  28,004   581847  \n",
       "4  petrol  408016  115843  29,125   552984  "
      ]
     },
     "execution_count": 25,
     "metadata": {},
     "output_type": "execute_result"
    }
   ],
   "source": [
    "filtered.head()"
   ]
  },
  {
   "cell_type": "code",
   "execution_count": 26,
   "id": "7a55d907",
   "metadata": {},
   "outputs": [
    {
     "data": {
      "text/plain": [
       "<AxesSubplot:>"
      ]
     },
     "execution_count": 26,
     "metadata": {},
     "output_type": "execute_result"
    },
    {
     "data": {
      "image/png": "[encoded data removed]",
      "text/plain": [
       "<Figure size 432x288 with 1 Axes>"
      ]
     },
     "metadata": {
      "needs_background": "light"
     },
     "output_type": "display_data"
    }
   ],
   "source": [
    "filteredManu['Manufacturer'].value_counts().plot(kind='bar')"
   ]
  },
  {
   "cell_type": "code",
   "execution_count": 27,
   "id": "d26336db",
   "metadata": {},
   "outputs": [
    {
     "data": {
      "text/plain": [
       "<AxesSubplot:>"
      ]
     },
     "execution_count": 27,
     "metadata": {},
     "output_type": "execute_result"
    },
    {
     "data": {
      "image/png": "[encoded data removed]",
      "text/plain": [
       "<Figure size 432x288 with 1 Axes>"
      ]
     },
     "metadata": {
      "needs_background": "light"
     },
     "output_type": "display_data"
    }
   ],
   "source": [
    "filtered['Fuel'].value_counts().plot(kind='bar')"
   ]
  },
  {
   "cell_type": "markdown",
   "id": "624568e9",
   "metadata": {},
   "source": [
    "Ik verwacht correlatie tussen deze twee categorische kolommen omdat deze 3 automerken veel verkocht worden denk ik dat daarom een groot aandeel van alle dieselauto's door deze merken verkocht wordt."
   ]
  },
  {
   "cell_type": "code",
   "execution_count": 31,
   "id": "41ac671b",
   "metadata": {},
   "outputs": [
    {
     "data": {
      "text/html": [
       "<div>\n",
       "<style scoped>\n",
       "    .dataframe tbody tr th:only-of-type {\n",
       "        vertical-align: middle;\n",
       "    }\n",
       "\n",
       "    .dataframe tbody tr th {\n",
       "        vertical-align: top;\n",
       "    }\n",
       "\n",
       "    .dataframe thead th {\n",
       "        text-align: right;\n",
       "    }\n",
       "</style>\n",
       "<table border=\"1\" class=\"dataframe\">\n",
       "  <thead>\n",
       "    <tr style=\"text-align: right;\">\n",
       "      <th>Manufacturer</th>\n",
       "      <th>Audi</th>\n",
       "      <th>BMW</th>\n",
       "      <th>Volkswagen</th>\n",
       "    </tr>\n",
       "    <tr>\n",
       "      <th>Fuel</th>\n",
       "      <th></th>\n",
       "      <th></th>\n",
       "      <th></th>\n",
       "    </tr>\n",
       "  </thead>\n",
       "  <tbody>\n",
       "    <tr>\n",
       "      <th>diesel</th>\n",
       "      <td>35</td>\n",
       "      <td>17</td>\n",
       "      <td>49</td>\n",
       "    </tr>\n",
       "    <tr>\n",
       "      <th>petrol</th>\n",
       "      <td>258</td>\n",
       "      <td>187</td>\n",
       "      <td>229</td>\n",
       "    </tr>\n",
       "  </tbody>\n",
       "</table>\n",
       "</div>"
      ],
      "text/plain": [
       "Manufacturer  Audi  BMW  Volkswagen\n",
       "Fuel                               \n",
       "diesel          35   17          49\n",
       "petrol         258  187         229"
      ]
     },
     "execution_count": 31,
     "metadata": {},
     "output_type": "execute_result"
    }
   ],
   "source": [
    "contingencyTable = data.groupby([filteredManu['Manufacturer'],filtered['Fuel']]).size().unstack('Manufacturer', fill_value=0)\n",
    "contingencyTable"
   ]
  },
  {
   "cell_type": "code",
   "execution_count": 29,
   "id": "fb32f74a",
   "metadata": {},
   "outputs": [
    {
     "data": {
      "text/plain": [
       "<AxesSubplot:xlabel='Fuel'>"
      ]
     },
     "execution_count": 29,
     "metadata": {},
     "output_type": "execute_result"
    },
    {
     "data": {
      "image/png": "[encoded data removed]",
      "text/plain": [
       "<Figure size 432x288 with 1 Axes>"
      ]
     },
     "metadata": {
      "needs_background": "light"
     },
     "output_type": "display_data"
    }
   ],
   "source": [
    "contingencyTable.plot(kind='bar')"
   ]
  },
  {
   "cell_type": "markdown",
   "id": "2e50d58c",
   "metadata": {},
   "source": [
    "Dit is niet wat ik van tevoren had bedacht, ik dacht dat deze veelverkochte merken een stuk meer diesel auto's zouden verkopen per x aantal verkochte benzine auto's. Audi verkoopt meer benzine auto's dan volkswagen maar dan weer minder diesel auto's dan Volkswagen. Er is dus correlatie tussen een bepaald automerk en de verkoop van dieselauto's."
   ]
  },
  {
   "cell_type": "code",
   "execution_count": 32,
   "id": "272dd062",
   "metadata": {
    "scrolled": true
   },
   "outputs": [
    {
     "data": {
      "text/plain": [
       "(9.455419317599254,\n",
       " 0.008846709838032554,\n",
       " 2,\n",
       " array([[ 38.18451613,  26.58580645,  36.22967742],\n",
       "        [254.81548387, 177.41419355, 241.77032258]]))"
      ]
     },
     "execution_count": 32,
     "metadata": {},
     "output_type": "execute_result"
    }
   ],
   "source": [
    "from scipy.stats import chi2_contingency\n",
    "chi2_contingency(contingencyTable)"
   ]
  },
  {
   "cell_type": "markdown",
   "id": "94340677",
   "metadata": {},
   "source": [
    "VRAGEN AAN DOCENT"
   ]
  },
  {
   "cell_type": "code",
   "execution_count": null,
   "id": "67881ef3",
   "metadata": {},
   "outputs": [],
   "source": []
  }
 ],
 "metadata": {
  "kernelspec": {
   "display_name": "Python 3 (ipykernel)",
   "language": "python",
   "name": "python3"
  },
  "language_info": {
   "codemirror_mode": {
    "name": "ipython",
    "version": 3
   },
   "file_extension": ".py",
   "mimetype": "text/x-python",
   "name": "python",
   "nbconvert_exporter": "python",
   "pygments_lexer": "ipython3",
   "version": "3.9.7"
  }
 },
 "nbformat": 4,
 "nbformat_minor": 5
}
